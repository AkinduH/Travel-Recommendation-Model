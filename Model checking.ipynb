{
 "cells": [
  {
   "cell_type": "code",
   "execution_count": 4,
   "metadata": {},
   "outputs": [],
   "source": [
    "import numpy as np\n",
    "import pandas as pd\n",
    "from sklearn.feature_extraction.text import TfidfVectorizer\n",
    "from sklearn.metrics.pairwise import cosine_similarity\n",
    "from itertools import combinations, permutations\n",
    "import ast\n",
    "import dill\n",
    "\n",
    "users_df = pd.read_csv('users_preprocessed.csv')"
   ]
  },
  {
   "cell_type": "code",
   "execution_count": 5,
   "metadata": {},
   "outputs": [
    {
     "name": "stdout",
     "output_type": "stream",
     "text": [
      "User Preferred Activities:\n",
      "- butterfly watching\n",
      "- hot springs\n",
      "- wildlife viewing\n",
      "\n",
      "User Bucket List Destinations in Sri Lanka:\n",
      "- Madunagala Hot Water Spring\n",
      "- Wilpattu National Park\n",
      "- Wasgamuwa National Park\n",
      "- Kanneliya National Rain Forest Reserve\n",
      "- Horton Plains National Park\n",
      "\n",
      "Final recommended places:\n",
      "Place: Madunagala Hot Water Spring\n",
      "Place: Sinharaja Forest Reserve\n",
      "Place: Horton Plains National Park\n",
      "Place: Knuckles\n",
      "Place: Pitawala Patana Trail\n"
     ]
    }
   ],
   "source": [
    "with open('Recommendation Model.pkl', 'rb') as file:\n",
    "    loaded_recommender = dill.load(file)\n",
    "\n",
    "#Enter user number \n",
    "user_number = 1\n",
    "\n",
    "# Example input\n",
    "user_activities = users_df.iloc[user_number]['Preferred Activities'].strip(\"[]\").replace(\"'\", \"\").split(\", \")\n",
    "user_bucket_list = users_df.iloc[user_number]['Bucket list destinations Sri Lanka'].strip(\"[]\").replace(\"'\", \"\").split(\", \")\n",
    "\n",
    "print(\"User Preferred Activities:\")\n",
    "for activity in user_activities:\n",
    "    print(f\"- {activity}\")\n",
    "\n",
    "print(\"\\nUser Bucket List Destinations in Sri Lanka:\")\n",
    "for destination in user_bucket_list:\n",
    "    print(f\"- {destination}\")\n",
    "\n",
    "best_route = loaded_recommender.recommend_top_places(user_activities, user_bucket_list)\n",
    "print(f\"\\nFinal recommended places:\")\n",
    "for place in best_route:\n",
    "    print(f\"Place: {place}\")"
   ]
  }
 ],
 "metadata": {
  "kernelspec": {
   "display_name": "Python 3",
   "language": "python",
   "name": "python3"
  },
  "language_info": {
   "codemirror_mode": {
    "name": "ipython",
    "version": 3
   },
   "file_extension": ".py",
   "mimetype": "text/x-python",
   "name": "python",
   "nbconvert_exporter": "python",
   "pygments_lexer": "ipython3",
   "version": "3.11.3"
  }
 },
 "nbformat": 4,
 "nbformat_minor": 2
}
